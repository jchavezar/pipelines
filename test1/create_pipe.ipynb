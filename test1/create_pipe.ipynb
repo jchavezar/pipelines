{
 "cells": [
  {
   "cell_type": "code",
   "execution_count": 2,
   "id": "df0bc717-cf03-409e-8af0-364088e85fa9",
   "metadata": {},
   "outputs": [],
   "source": [
    "import time\n",
    "timestr = time.strftime(\"%H%M\")\n",
    "pipeline_name='pipe-{}'.format(timestr)\n",
    "compiled_pipe='pipeline_1'"
   ]
  },
  {
   "cell_type": "code",
   "execution_count": 8,
   "id": "f07684c8-c770-4b19-975a-bb5d6ac8a9bb",
   "metadata": {},
   "outputs": [
    {
     "name": "stdout",
     "output_type": "stream",
     "text": [
      "Overwriting pipeline.py\n"
     ]
    }
   ],
   "source": [
    "%%writefile pipeline.py\n",
    "\n",
    "import kfp\n",
    "\n",
    "from typing import NamedTuple\n",
    "\n",
    "from kfp.v2.dsl import pipeline\n",
    "from kfp.v2.dsl import component\n",
    "from kfp.v2 import compiler\n",
    "import time\n",
    "\n",
    "timestr = time.strftime(\"%H%M\")\n",
    "pipeline_name='pipe-{}'.format(timestr)\n",
    "compiled_pipe='pipeline_1'\n",
    "\n",
    "@component\n",
    "def op(a: float, b: float) -> float:\n",
    "    return a+b\n",
    "\n",
    "@pipeline(name=\"{}\".format(pipeline_name), description=\"A simple intro pipeline\",\n",
    "          pipeline_root='gs://tron-302502-bucket/basic-pipe')\n",
    "def basic_pipeline(a: float=10, b: float=12):\n",
    "    op_task = op(a,b)\n",
    "    \n",
    "if __name__ == '__main__':\n",
    "    compiler.Compiler().compile(\n",
    "        pipeline_func=basic_pipeline, package_path=\"basic_pipeline_1.json\"\n",
    "    )\n",
    "\n",
    "    \n",
    "if __name__ == '__main__':\n",
    "    compiler.Compiler().compile(\n",
    "        pipeline_func=basic_pipeline, package_path=\"{}.json\".format(compiled_pipe)\n",
    "    )"
   ]
  },
  {
   "cell_type": "code",
   "execution_count": null,
   "id": "66d547b7-1330-4e9a-87c1-7813692460a0",
   "metadata": {},
   "outputs": [],
   "source": []
  }
 ],
 "metadata": {
  "kernelspec": {
   "display_name": "kfp (ipykernel)",
   "language": "python",
   "name": "kfp"
  },
  "language_info": {
   "codemirror_mode": {
    "name": "ipython",
    "version": 3
   },
   "file_extension": ".py",
   "mimetype": "text/x-python",
   "name": "python",
   "nbconvert_exporter": "python",
   "pygments_lexer": "ipython3",
   "version": "3.7.11"
  }
 },
 "nbformat": 4,
 "nbformat_minor": 5
}
